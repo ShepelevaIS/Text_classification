{
 "cells": [
  {
   "cell_type": "code",
   "execution_count": 1,
   "metadata": {
    "ExecuteTime": {
     "end_time": "2021-02-28T20:37:08.970470Z",
     "start_time": "2021-02-28T20:37:05.988826Z"
    }
   },
   "outputs": [],
   "source": [
    "import numpy as np\n",
    "import os\n",
    "import pandas as pd\n",
    "import re\n",
    "from sklearn import metrics\n",
    "from sklearn.model_selection import train_test_split\n",
    "import string\n",
    "import torch\n",
    "from torch import nn\n",
    "from torch.utils.data import TensorDataset, Dataset, DataLoader\n",
    "from tqdm import tqdm_notebook as tqdm\n",
    "import transformers\n",
    "from transformers import BertForTokenClassification, BertTokenizer, BertConfig, BertModel, BertForSequenceClassification\n",
    "from transformers import BertTokenizer, BertForSequenceClassification\n",
    "from transformers import AutoTokenizer, AutoModel"
   ]
  },
  {
   "cell_type": "code",
   "execution_count": 11,
   "metadata": {
    "ExecuteTime": {
     "end_time": "2021-02-28T20:39:35.367771Z",
     "start_time": "2021-02-28T20:39:35.351810Z"
    }
   },
   "outputs": [],
   "source": [
    "def remove_emoji(text):\n",
    "    emoji_pattern = re.compile(\"[\"\n",
    "                           u\"\\U0001F600-\\U0001F64F\"  # emoticons\n",
    "                           u\"\\U0001F300-\\U0001F5FF\"  # symbols & pictographs\n",
    "                           u\"\\U0001F680-\\U0001F6FF\"  # transport & map symbols\n",
    "                           u\"\\U0001F1E0-\\U0001F1FF\"  # flags (iOS)\n",
    "                           u\"\\U00002702-\\U000027B0\"\n",
    "                           u\"\\U000024C2-\\U0001F251\"\n",
    "                           u\"\\U0001F923\"\n",
    "                           \"]+\", flags=re.UNICODE)\n",
    "    return emoji_pattern.sub(r' ', text)\n",
    "\n",
    "def clean_text(text):\n",
    "    \n",
    "    '''Make text lowercase, remove text in square brackets,remove links,remove punctuation\n",
    "    and remove words containing numbers.'''\n",
    "    \n",
    "    text = text.lower()\n",
    "    text = re.sub('\\[.*?\\]', ' ', text)\n",
    "    text = re.sub('https?://\\S+|www\\.\\S+', ' ', text)\n",
    "    text = re.sub('<.*?>+', ' ', text)\n",
    "    text = re.sub('[%s]' % re.escape(string.punctuation), ' ', text)\n",
    "    text = re.sub('\\n', ' ', text)\n",
    "    text = re.sub('\\d', ' ', text)\n",
    "    text = re.sub(' {2,}', ' ', text)\n",
    "    return text\n",
    "\n",
    "class CustomDataset(Dataset):\n",
    "    \n",
    "    '''Format for the DataLoader'''\n",
    "        \n",
    "    def __init__(self, sentences, labels):\n",
    "        self.len = len(sentences)\n",
    "        self.sentences = sentences\n",
    "        self.labels = labels\n",
    "        \n",
    "    def __getitem__(self, index):\n",
    "        sentence = str(self.sentences[index])\n",
    "        label = self.labels[index]\n",
    "\n",
    "        return {\n",
    "            'text': sentence,\n",
    "            'label': label\n",
    "        } \n",
    "    def __len__(self):\n",
    "        return self.len\n",
    "\n",
    "\n",
    "def train(model, tokenizer, training_loader, device, epoch):\n",
    "    \n",
    "    '''Train NN'''\n",
    "    \n",
    "    model.train()\n",
    "    for i, data in enumerate(tqdm(training_loader)):\n",
    "        \n",
    "        encoding = tokenizer(\n",
    "            data['text'],\n",
    "            add_special_tokens=True,\n",
    "            padding='longest',\n",
    "            return_tensors='pt').to(device)\n",
    "        \n",
    "        ids = encoding['input_ids']\n",
    "        mask = encoding['attention_mask']\n",
    "        targets = data['label'].to(device, dtype = torch.long)\n",
    "        loss = model(ids, mask, labels=targets)[0]\n",
    "\n",
    "        if i%500==0:\n",
    "            print(f'Epoch: {epoch}, Loss:  {loss.item()}')\n",
    "           \n",
    "        loss.backward()\n",
    "        optimizer.step()\n",
    "        optimizer.zero_grad()\n",
    "        \n",
    "\n",
    "        \n",
    "def validate(model, tokenizer, testing_loader, device):\n",
    "    \n",
    "    '''Validate NN'''\n",
    "    \n",
    "    model.eval()\n",
    "    eval_loss = 0\n",
    "    predictions , true_labels = [], []\n",
    "    nb_eval_steps, nb_eval_examples = 0, 0\n",
    "    with torch.no_grad():\n",
    "        for i, data in enumerate(testing_loader):\n",
    "\n",
    "            encoding = tokenizer(\n",
    "                data['text'],\n",
    "                add_special_tokens=True,\n",
    "                padding='longest',\n",
    "                return_tensors='pt').to(device)\n",
    "            \n",
    "            ids = encoding['input_ids']\n",
    "            mask = encoding['attention_mask']\n",
    "            targets = data['label'].to(device, dtype = torch.long)\n",
    "            output = model(ids, mask, labels=targets)\n",
    "            loss, logits = output[:2]\n",
    "            logits = logits.detach().cpu().numpy()\n",
    "            label_ids = targets.to('cpu').numpy()\n",
    "            predictions.extend(np.argmax(logits, axis=1))\n",
    "            true_labels.extend(label_ids)\n",
    "            eval_loss += loss.mean().item()\n",
    "            nb_eval_examples += ids.size(0)\n",
    "            nb_eval_steps += 1\n",
    "        eval_loss = eval_loss/nb_eval_steps\n",
    "        print(\"Validation loss: {}\".format(eval_loss))\n",
    "        print(\"Recall: {}\".format(metrics.recall_score(true_labels, predictions)))\n",
    "        print(\"Precision: {}\".format(metrics.precision_score(true_labels, predictions)))\n",
    "        \n",
    "class BERTClassifier(torch.nn.Module):\n",
    "    def __init__(self, model_name):\n",
    "        \n",
    "        super(BERTClassifier, self).__init__()\n",
    "        self.model = model_name\n",
    "        self.l1 = BertForSequenceClassification.from_pretrained(self.model, \n",
    "                                                                num_labels = 2,\n",
    "                                                                output_attentions = False,\n",
    "                                                                output_hidden_states = False)\n",
    "    \n",
    "    def forward(self, ids, mask, labels):\n",
    "        out= self.l1(ids, mask, labels = labels)\n",
    "        return out"
   ]
  },
  {
   "cell_type": "code",
   "execution_count": 3,
   "metadata": {
    "ExecuteTime": {
     "end_time": "2021-02-28T20:37:09.052403Z",
     "start_time": "2021-02-28T20:37:08.987381Z"
    }
   },
   "outputs": [],
   "source": [
    "# Parameters\n",
    "dir_data = \"./\"\n",
    "col_text = \"comment\"\n",
    "col_target = \"toxic\"\n",
    "\n",
    "\n",
    "TEST_SIZE = 0.3\n",
    "RANDOM_STATE = 2021\n",
    "DEVICE = torch.device(\"cuda:0\" if torch.cuda.is_available() else \"cpu\") \n",
    "TRAIN_BATCH_SIZE = 32\n",
    "VALID_BATCH_SIZE = 16\n",
    "BATCH_SIZE = 4\n",
    "EPOCHS = 2\n",
    "LEARNING_RATE = 2e-05\n",
    "MODEL_NAME = 'DeepPavlov/rubert-base-cased'"
   ]
  },
  {
   "cell_type": "code",
   "execution_count": 4,
   "metadata": {
    "ExecuteTime": {
     "end_time": "2021-02-28T20:37:11.955680Z",
     "start_time": "2021-02-28T20:37:09.059387Z"
    }
   },
   "outputs": [],
   "source": [
    "# OK toxic classification challenge dataset \n",
    "with open(os.path.join(dir_data, \"okcup_train.txt\"), encoding='utf8') as f:\n",
    "    data = f.read().split(\"\\n\")\n",
    "    \n",
    "texts = []\n",
    "classes = []\n",
    "for x in data:\n",
    "    row = x.split(\"\\t\")\n",
    "    classes.append(int(\" \".join(row[1:-1])!='__label__NORMAL')) # At least one class is toxic\n",
    "    texts.append(row[-1])\n",
    "    \n",
    "df_part1 = pd.DataFrame({'comment': texts[:-1], 'toxic':classes[:-1]})\n",
    "\n",
    "# https://www.kaggle.com/blackmoon/russian-language-toxic-comments\n",
    "df_part2 = pd.read_csv(os.path.join(dir_data, \"toxic_labeled.csv\"))\n",
    "df_part2['toxic'] = df_part2['toxic'].astype('int64')\n",
    "\n",
    "df = pd.concat([df_part1, df_part2]).reset_index(drop=True)\n",
    "\n",
    "# Preprocess dataset\n",
    "df[col_text] = df[col_text].apply(lambda x: remove_emoji(x))\n",
    "df[col_text] = df[col_text].apply(lambda x: clean_text(x))"
   ]
  },
  {
   "cell_type": "code",
   "execution_count": 5,
   "metadata": {
    "ExecuteTime": {
     "end_time": "2021-02-28T20:37:11.969184Z",
     "start_time": "2021-02-28T20:37:11.956673Z"
    }
   },
   "outputs": [],
   "source": [
    "df = df.sample(1000)"
   ]
  },
  {
   "cell_type": "code",
   "execution_count": 6,
   "metadata": {
    "ExecuteTime": {
     "end_time": "2021-02-28T20:37:11.981603Z",
     "start_time": "2021-02-28T20:37:11.970178Z"
    }
   },
   "outputs": [],
   "source": [
    "df_train, df_test = train_test_split(\n",
    "                                    df,\n",
    "                                    test_size=TEST_SIZE,\n",
    "                                    random_state=RANDOM_STATE,\n",
    "                                    stratify=df[col_target]\n",
    "                                    )"
   ]
  },
  {
   "cell_type": "code",
   "execution_count": 7,
   "metadata": {
    "ExecuteTime": {
     "end_time": "2021-02-28T20:37:11.986638Z",
     "start_time": "2021-02-28T20:37:11.982602Z"
    }
   },
   "outputs": [],
   "source": [
    "# To use TPU and seqeval metrics\n",
    "# !curl -q https://raw.githubusercontent.com/pytorch/xla/master/contrib/scripts/env-setup.py -o pytorch-xla-env-setup.py\n",
    "# !python pytorch-xla-env-setup.py --apt-packages libomp5 libopenblas-dev\n",
    "# !pip -q install seqeval"
   ]
  },
  {
   "cell_type": "code",
   "execution_count": 8,
   "metadata": {
    "ExecuteTime": {
     "end_time": "2021-02-28T20:37:11.993572Z",
     "start_time": "2021-02-28T20:37:11.987589Z"
    }
   },
   "outputs": [],
   "source": [
    "train_sentences = list(df_train[col_text].values)\n",
    "train_labels =  df_train[col_target].values\n",
    "\n",
    "test_sentences = list(df_test[col_text].values)\n",
    "test_labels = df_test[col_target].values"
   ]
  },
  {
   "cell_type": "code",
   "execution_count": 9,
   "metadata": {
    "ExecuteTime": {
     "end_time": "2021-02-28T20:38:05.933373Z",
     "start_time": "2021-02-28T20:37:11.994569Z"
    }
   },
   "outputs": [
    {
     "name": "stderr",
     "output_type": "stream",
     "text": [
      "Some weights of BertForSequenceClassification were not initialized from the model checkpoint at DeepPavlov/rubert-base-cased and are newly initialized: ['classifier.weight', 'classifier.bias']\n",
      "You should probably TRAIN this model on a down-stream task to be able to use it for predictions and inference.\n"
     ]
    },
    {
     "name": "stdout",
     "output_type": "stream",
     "text": [
      "TRAIN Dataset: 700\n",
      "TEST Dataset: 300\n"
     ]
    },
    {
     "data": {
      "application/vnd.jupyter.widget-view+json": {
       "model_id": "21a0b6d5ba8b426097a5f0493375e8ae",
       "version_major": 2,
       "version_minor": 0
      },
      "text/plain": [
       "HBox(children=(IntProgress(value=0, max=175), HTML(value='')))"
      ]
     },
     "metadata": {},
     "output_type": "display_data"
    },
    {
     "name": "stdout",
     "output_type": "stream",
     "text": [
      "Epoch: 0, Loss:  0.6728735566139221\n",
      "\n"
     ]
    },
    {
     "data": {
      "application/vnd.jupyter.widget-view+json": {
       "model_id": "c751625d04c5435c98b9cc6b72f78bd4",
       "version_major": 2,
       "version_minor": 0
      },
      "text/plain": [
       "HBox(children=(IntProgress(value=0, max=175), HTML(value='')))"
      ]
     },
     "metadata": {},
     "output_type": "display_data"
    },
    {
     "name": "stdout",
     "output_type": "stream",
     "text": [
      "Epoch: 1, Loss:  0.16329050064086914\n",
      "\n"
     ]
    }
   ],
   "source": [
    "tokenizer = AutoTokenizer.from_pretrained(MODEL_NAME)\n",
    "model = BERTClassifier(MODEL_NAME)\n",
    "model.to(DEVICE)\n",
    "#tokenizer = AutoTokenizer.from_pretrained(MODEL_NAME)\n",
    "\n",
    "print(\"TRAIN Dataset: {}\".format(len(train_sentences)))\n",
    "print(\"TEST Dataset: {}\".format(len(test_sentences)))\n",
    "\n",
    "training_loader = DataLoader(\n",
    "CustomDataset(train_sentences, train_labels),\n",
    "batch_size=BATCH_SIZE,\n",
    "num_workers=0)\n",
    "\n",
    "testing_loader = DataLoader(\n",
    "CustomDataset(test_sentences, test_labels),\n",
    "batch_size=BATCH_SIZE,\n",
    "num_workers=0)\n",
    "\n",
    "optimizer = torch.optim.Adam(params =  model.parameters(), lr=LEARNING_RATE)\n",
    "\n",
    "for epoch in range(EPOCHS):\n",
    "    train(model, tokenizer, training_loader, DEVICE, epoch)"
   ]
  },
  {
   "cell_type": "code",
   "execution_count": 12,
   "metadata": {
    "ExecuteTime": {
     "end_time": "2021-02-28T20:39:39.367723Z",
     "start_time": "2021-02-28T20:39:37.662285Z"
    }
   },
   "outputs": [
    {
     "name": "stdout",
     "output_type": "stream",
     "text": [
      "Validation loss: 0.23974343885978064\n",
      "Recall: 0.7083333333333334\n",
      "Precision: 0.7083333333333334\n"
     ]
    }
   ],
   "source": [
    " validate(model, tokenizer, testing_loader, DEVICE)"
   ]
  }
 ],
 "metadata": {
  "@webio": {
   "lastCommId": null,
   "lastKernelId": null
  },
  "kernelspec": {
   "display_name": "Python 3",
   "language": "python",
   "name": "python3"
  },
  "language_info": {
   "codemirror_mode": {
    "name": "ipython",
    "version": 3
   },
   "file_extension": ".py",
   "mimetype": "text/x-python",
   "name": "python",
   "nbconvert_exporter": "python",
   "pygments_lexer": "ipython3",
   "version": "3.7.3"
  }
 },
 "nbformat": 4,
 "nbformat_minor": 2
}

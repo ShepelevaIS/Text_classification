{
 "cells": [
  {
   "cell_type": "code",
   "execution_count": 1,
   "metadata": {
    "ExecuteTime": {
     "end_time": "2021-02-28T19:31:50.469246Z",
     "start_time": "2021-02-28T19:31:45.874061Z"
    }
   },
   "outputs": [
    {
     "name": "stderr",
     "output_type": "stream",
     "text": [
      "unable to import 'smart_open.gcs', disabling that module\n"
     ]
    }
   ],
   "source": [
    "from allennlp.commands.elmo import ElmoEmbedder\n",
    "from allennlp.modules.elmo import Elmo, batch_to_ids\n",
    "import gensim\n",
    "from gensim import models\n",
    "from gensim.models import Word2Vec, KeyedVectors\n",
    "import numpy as np\n",
    "import os\n",
    "import pandas as pd\n",
    "from razdel import tokenize, sentenize\n",
    "import re\n",
    "from sklearn import metrics\n",
    "from sklearn.model_selection import train_test_split\n",
    "from sklearn.neural_network import MLPClassifier\n",
    "import string\n",
    "import torch\n",
    "from torch import nn\n",
    "from torch.utils.data import TensorDataset, Dataset, DataLoader\n",
    "from tqdm import tqdm_notebook as tqdm"
   ]
  },
  {
   "cell_type": "code",
   "execution_count": 15,
   "metadata": {
    "ExecuteTime": {
     "end_time": "2021-02-28T19:38:18.655575Z",
     "start_time": "2021-02-28T19:38:18.643608Z"
    }
   },
   "outputs": [],
   "source": [
    "def remove_emoji(text):\n",
    "    emoji_pattern = re.compile(\"[\"\n",
    "                           u\"\\U0001F600-\\U0001F64F\"  # emoticons\n",
    "                           u\"\\U0001F300-\\U0001F5FF\"  # symbols & pictographs\n",
    "                           u\"\\U0001F680-\\U0001F6FF\"  # transport & map symbols\n",
    "                           u\"\\U0001F1E0-\\U0001F1FF\"  # flags (iOS)\n",
    "                           u\"\\U00002702-\\U000027B0\"\n",
    "                           u\"\\U000024C2-\\U0001F251\"\n",
    "                           u\"\\U0001F923\"\n",
    "                           \"]+\", flags=re.UNICODE)\n",
    "    return emoji_pattern.sub(r' ', text)\n",
    "\n",
    "def clean_text(text):\n",
    "    \n",
    "    '''Make text lowercase, remove text in square brackets,remove links,remove punctuation\n",
    "    and remove words containing numbers.'''\n",
    "    \n",
    "    text = text.lower()\n",
    "    text = re.sub('\\[.*?\\]', ' ', text)\n",
    "    text = re.sub('https?://\\S+|www\\.\\S+', ' ', text)\n",
    "    text = re.sub('<.*?>+', ' ', text)\n",
    "    text = re.sub('[%s]' % re.escape(string.punctuation), ' ', text)\n",
    "    text = re.sub('\\n', ' ', text)\n",
    "    text = re.sub('\\d', ' ', text)\n",
    "    text = re.sub(' {2,}', ' ', text)\n",
    "    return text\n",
    "\n",
    "def get_tokens(texts):\n",
    "    \n",
    "    '''Divide text into sentences and tokenize'''\n",
    "    \n",
    "    texts_tokenized = []\n",
    "    for text in texts:\n",
    "        for sentence in sentenize(text):\n",
    "            texts_tokenized.append([token.text.lower() for token in tokenize(sentence.text) if token.text not in string.punctuation])\n",
    "    return texts_tokenized\n",
    "\n",
    "def get_sentence_embedding(model, phrase, model_name='fasttext', device='cpu'):\n",
    "    \n",
    "    '''Get sentence embeddings using Word2Vec, Fasttext or ELMO'''\n",
    "    \n",
    "    assert model_name in ['w2v', 'fasttext','elmo']\n",
    "    \n",
    "    if model_name == 'w2v':\n",
    "        embeddings = np.array([model.get_vector(word.text.lower()) if word.text.lower() in model.vocab else np.zeros((model.vector_size,))\n",
    "                               for word in tokenize(phrase)])\n",
    "        return np.mean(embeddings, axis=0)\n",
    "    \n",
    "    if model_name == 'fasttext':\n",
    "        embeddings = np.array([model.get_vector(word.text.lower()) for word in tokenize(phrase)])  \n",
    "        return np.mean(embeddings, axis=0)\n",
    "    \n",
    "    if model_name == 'elmo':\n",
    "        phrase_tokenized = [word.text.lower() for word in tokenize(phrase)]\n",
    "#         embeddings = model_elmo.embed_sentence(phrase_tokenized)[2][0].reshape(1, -1)\n",
    "# #        embeddings = np.mean(embeddings, axis=1)\n",
    "        inds = batch_to_ids([phrase_tokenized])\n",
    "        inds = inds.to(device)\n",
    "        embeddings = model(inds)['elmo_representations'][0].detach().cpu().numpy()\n",
    "        embeddings = np.mean(embeddings, axis=1)[0]\n",
    "        return embeddings\n",
    "\n",
    "\n",
    "def get_text_embeddings(texts, device='cpu', batch_size=4):\n",
    "    \n",
    "    '''Get embeddings using ELMO'''\n",
    "    \n",
    "    loader = DataLoader(list(texts), batch_size=batch_size, shuffle=False)\n",
    "    \n",
    "    embeddings = []\n",
    "    \n",
    "    for batch in tqdm(iter(loader)):\n",
    "        batch_tokenized = get_tokens(batch)\n",
    "        inds = batch_to_ids(batch_tokenized).to(device)\n",
    "        batch_embeddings = elmo(inds)['elmo_representations'][0].detach().cpu().numpy()\n",
    "        batch_embeddings = np.mean(batch_embeddings, axis=1) \n",
    "        embeddings.append(batch_embeddings)\n",
    "        \n",
    "    return np.vstack(embeddings)"
   ]
  },
  {
   "cell_type": "markdown",
   "metadata": {},
   "source": [
    "### Choose parameters, load and preprocess dataset"
   ]
  },
  {
   "cell_type": "code",
   "execution_count": 3,
   "metadata": {
    "ExecuteTime": {
     "end_time": "2021-02-28T19:31:50.545307Z",
     "start_time": "2021-02-28T19:31:50.484200Z"
    }
   },
   "outputs": [],
   "source": [
    "# Parameters\n",
    "dir_data = \"./\"\n",
    "col_text = \"comment\" # name of the column with texts\n",
    "col_target = \"toxic\" #target name\n",
    "test_size = 0.3 # share of Test sample\n",
    "random_state = 2021\n",
    "device = torch.device(\"cuda:0\" if torch.cuda.is_available() else \"cpu\") "
   ]
  },
  {
   "cell_type": "code",
   "execution_count": 25,
   "metadata": {
    "ExecuteTime": {
     "end_time": "2021-02-28T19:58:51.383876Z",
     "start_time": "2021-02-28T19:58:48.760700Z"
    }
   },
   "outputs": [],
   "source": [
    "# OK toxic classification challenge dataset \n",
    "with open(os.path.join(dir_data, \"okcup_train.txt\"), encoding='utf8') as f:\n",
    "    data = f.read().split(\"\\n\")\n",
    "    \n",
    "texts = []\n",
    "classes = []\n",
    "for x in data:\n",
    "    row = x.split(\"\\t\")\n",
    "    classes.append(int(\" \".join(row[1:-1])!='__label__NORMAL')) # At least one class is toxic\n",
    "    texts.append(row[-1])\n",
    "    \n",
    "df_part1 = pd.DataFrame({'comment': texts[:-1], 'toxic':classes[:-1]})\n",
    "\n",
    "# https://www.kaggle.com/blackmoon/russian-language-toxic-comments\n",
    "df_part2 = pd.read_csv(os.path.join(dir_data, \"toxic_labeled.csv\"))\n",
    "df_part2['toxic'] = df_part2['toxic'].astype('int64')\n",
    "\n",
    "df = pd.concat([df_part1, df_part2]).reset_index(drop=True)\n",
    "\n",
    "# Preprocess dataset\n",
    "df[col_text] = df[col_text].apply(lambda x: remove_emoji(x))\n",
    "df[col_text] = df[col_text].apply(lambda x: clean_text(x))"
   ]
  },
  {
   "cell_type": "code",
   "execution_count": 6,
   "metadata": {
    "ExecuteTime": {
     "end_time": "2021-02-28T19:31:53.202421Z",
     "start_time": "2021-02-28T19:31:53.146534Z"
    }
   },
   "outputs": [],
   "source": [
    "df_train, df_test = train_test_split(\n",
    "                                    df,\n",
    "                                    test_size=test_size,\n",
    "                                    random_state=random_state,\n",
    "                                    stratify=df[col_target]\n",
    "                                    )"
   ]
  },
  {
   "cell_type": "code",
   "execution_count": 7,
   "metadata": {
    "ExecuteTime": {
     "end_time": "2021-02-28T19:32:00.067641Z",
     "start_time": "2021-02-28T19:31:53.205422Z"
    }
   },
   "outputs": [],
   "source": [
    "texts_tokenized_train = get_tokens(df_train[col_text])\n",
    "\n",
    "assert len(texts_tokenized_train[0]) > 0\n",
    "assert texts_tokenized_train[0][0].islower()"
   ]
  },
  {
   "cell_type": "markdown",
   "metadata": {},
   "source": [
    "### Based on W2V"
   ]
  },
  {
   "cell_type": "code",
   "execution_count": 8,
   "metadata": {
    "ExecuteTime": {
     "end_time": "2021-02-28T19:32:27.118874Z",
     "start_time": "2021-02-28T19:32:00.069536Z"
    }
   },
   "outputs": [],
   "source": [
    "model_w2v = Word2Vec(sentences=texts_tokenized_train, size=128, window=5, min_count=1, workers=6).wv"
   ]
  },
  {
   "cell_type": "code",
   "execution_count": 9,
   "metadata": {
    "ExecuteTime": {
     "end_time": "2021-02-28T19:32:43.148347Z",
     "start_time": "2021-02-28T19:32:27.119871Z"
    }
   },
   "outputs": [
    {
     "data": {
      "application/vnd.jupyter.widget-view+json": {
       "model_id": "54f4375793074cd9a9ae31bdc6a108e3",
       "version_major": 2,
       "version_minor": 0
      },
      "text/plain": [
       "HBox(children=(IntProgress(value=0, max=114230), HTML(value='')))"
      ]
     },
     "metadata": {},
     "output_type": "display_data"
    },
    {
     "name": "stdout",
     "output_type": "stream",
     "text": [
      "\n"
     ]
    },
    {
     "data": {
      "application/vnd.jupyter.widget-view+json": {
       "model_id": "3d2d2bda985c4d0abc7a4843cdd0ba1f",
       "version_major": 2,
       "version_minor": 0
      },
      "text/plain": [
       "HBox(children=(IntProgress(value=0, max=48957), HTML(value='')))"
      ]
     },
     "metadata": {},
     "output_type": "display_data"
    },
    {
     "name": "stdout",
     "output_type": "stream",
     "text": [
      "\n"
     ]
    }
   ],
   "source": [
    "y_train = df_train[col_target].to_numpy()\n",
    "X_train = []\n",
    "for phrase in tqdm(df_train[col_text]):\n",
    "    X_train.append(get_sentence_embedding(model_w2v, phrase, 'w2v'))\n",
    "X_train = np.vstack(X_train)\n",
    "\n",
    "y_test = df_test[col_target].to_numpy()\n",
    "X_test = []\n",
    "for phrase in tqdm(df_test[col_text]):\n",
    "    X_test.append(get_sentence_embedding(model_w2v, phrase, 'w2v'))\n",
    "X_test = np.vstack(X_test)"
   ]
  },
  {
   "cell_type": "code",
   "execution_count": 11,
   "metadata": {
    "ExecuteTime": {
     "end_time": "2021-02-28T19:37:33.164547Z",
     "start_time": "2021-02-28T19:32:43.152340Z"
    }
   },
   "outputs": [
    {
     "name": "stderr",
     "output_type": "stream",
     "text": [
      "C:\\Users\\Irina\\AppData\\Roaming\\Python\\Python37\\site-packages\\sklearn\\neural_network\\_multilayer_perceptron.py:571: ConvergenceWarning: Stochastic Optimizer: Maximum iterations (200) reached and the optimization hasn't converged yet.\n",
      "  % self.max_iter, ConvergenceWarning)\n"
     ]
    },
    {
     "name": "stdout",
     "output_type": "stream",
     "text": [
      "Recall: 0.5537040967947358\n",
      "Precision: 0.7489233419465977\n"
     ]
    }
   ],
   "source": [
    "# Train and apply MLP\n",
    "clf_mlp_w2v = MLPClassifier()\n",
    "clf_mlp_w2v.fit(X_train, y_train)\n",
    "\n",
    "y_predicted = clf_mlp_w2v.predict(X_test)\n",
    "\n",
    "print(f'Recall: {metrics.recall_score(y_test, y_predicted)}')\n",
    "print(f'Precision: {metrics.precision_score(y_test, y_predicted)}')"
   ]
  },
  {
   "cell_type": "markdown",
   "metadata": {
    "ExecuteTime": {
     "start_time": "2021-02-27T19:27:06.973Z"
    }
   },
   "source": [
    "### Based on Fasttext"
   ]
  },
  {
   "cell_type": "code",
   "execution_count": 12,
   "metadata": {
    "ExecuteTime": {
     "end_time": "2021-02-28T19:37:52.332637Z",
     "start_time": "2021-02-28T19:37:51.097410Z"
    }
   },
   "outputs": [],
   "source": [
    "model_fasttext = KeyedVectors.load(\"./tayga_none_fasttextcbow_300_10_2019/model.model\")"
   ]
  },
  {
   "cell_type": "code",
   "execution_count": 16,
   "metadata": {
    "ExecuteTime": {
     "end_time": "2021-02-28T19:39:00.835994Z",
     "start_time": "2021-02-28T19:38:21.044932Z"
    }
   },
   "outputs": [
    {
     "data": {
      "application/vnd.jupyter.widget-view+json": {
       "model_id": "02f62bae4d5f4938abc6bd0ad0f37449",
       "version_major": 2,
       "version_minor": 0
      },
      "text/plain": [
       "HBox(children=(IntProgress(value=0, max=114230), HTML(value='')))"
      ]
     },
     "metadata": {},
     "output_type": "display_data"
    },
    {
     "name": "stdout",
     "output_type": "stream",
     "text": [
      "\n"
     ]
    },
    {
     "data": {
      "application/vnd.jupyter.widget-view+json": {
       "model_id": "3f4a12ef0f544b7ba8e68f22862adea6",
       "version_major": 2,
       "version_minor": 0
      },
      "text/plain": [
       "HBox(children=(IntProgress(value=0, max=48957), HTML(value='')))"
      ]
     },
     "metadata": {},
     "output_type": "display_data"
    },
    {
     "name": "stdout",
     "output_type": "stream",
     "text": [
      "\n"
     ]
    }
   ],
   "source": [
    "y_train = df_train[col_target].to_numpy()\n",
    "X_train = []\n",
    "for phrase in tqdm(df_train[col_text]):\n",
    "    X_train.append(get_sentence_embedding(model_fasttext, phrase, 'fasttext'))\n",
    "X_train = np.vstack(X_train)\n",
    "\n",
    "y_test = df_test[col_target].to_numpy()\n",
    "X_test = []\n",
    "for phrase in tqdm(df_test[col_text]):\n",
    "    X_test.append(get_sentence_embedding(model_fasttext, phrase, 'fasttext'))\n",
    "X_test = np.vstack(X_test)"
   ]
  },
  {
   "cell_type": "code",
   "execution_count": 17,
   "metadata": {
    "ExecuteTime": {
     "end_time": "2021-02-28T19:40:56.487610Z",
     "start_time": "2021-02-28T19:39:00.836937Z"
    }
   },
   "outputs": [
    {
     "name": "stdout",
     "output_type": "stream",
     "text": [
      "Recall: 0.7253237104648694\n",
      "Precision: 0.823869801084991\n"
     ]
    }
   ],
   "source": [
    "# Train and apply MLP\n",
    "clf_mlp_fasttext = MLPClassifier()\n",
    "clf_mlp_fasttext.fit(X_train, y_train)\n",
    "\n",
    "y_predicted = clf_mlp_fasttext.predict(X_test)\n",
    "print(f'Recall: {metrics.recall_score(y_test, y_predicted)}')\n",
    "print(f'Precision: {metrics.precision_score(y_test, y_predicted)}')"
   ]
  },
  {
   "cell_type": "markdown",
   "metadata": {},
   "source": [
    "### Based on ELMO"
   ]
  },
  {
   "cell_type": "code",
   "execution_count": 10,
   "metadata": {
    "ExecuteTime": {
     "end_time": "2021-02-27T23:09:53.770169Z",
     "start_time": "2021-02-27T23:09:48.058094Z"
    }
   },
   "outputs": [],
   "source": [
    "#model_elmo = ElmoEmbedder(options_file=\"./elmo/options.json\", weight_file=\"./elmo/model.hdf5\", cuda_device=0)\n",
    "#https://github.com/allenai/allennlp/issues/2245\n",
    "#(charcnn, lstm1, lstm2)"
   ]
  },
  {
   "cell_type": "code",
   "execution_count": 18,
   "metadata": {
    "ExecuteTime": {
     "end_time": "2021-02-28T19:41:44.383383Z",
     "start_time": "2021-02-28T19:41:41.656812Z"
    }
   },
   "outputs": [],
   "source": [
    "elmo = Elmo(options_file=\"./elmo/options.json\",\n",
    "            weight_file=\"./elmo/model.hdf5\",\n",
    "            num_output_representations=1,\n",
    "            requires_grad=False,\n",
    "            dropout=0).to(device)"
   ]
  },
  {
   "cell_type": "code",
   "execution_count": 19,
   "metadata": {
    "ExecuteTime": {
     "end_time": "2021-02-28T19:41:45.071033Z",
     "start_time": "2021-02-28T19:41:45.051031Z"
    }
   },
   "outputs": [],
   "source": [
    "# Example on a subsample to save time\n",
    "df = df.sample(5000)\n",
    "\n",
    "df_train, df_test = train_test_split(\n",
    "                                    df,\n",
    "                                    test_size=test_size,\n",
    "                                    random_state=random_state,\n",
    "                                    stratify=df[col_target]\n",
    "                                    )"
   ]
  },
  {
   "cell_type": "code",
   "execution_count": 21,
   "metadata": {
    "ExecuteTime": {
     "end_time": "2021-02-28T19:46:26.999818Z",
     "start_time": "2021-02-28T19:42:56.071384Z"
    }
   },
   "outputs": [
    {
     "data": {
      "application/vnd.jupyter.widget-view+json": {
       "model_id": "3b946a8c29a5417285c86059b57378b0",
       "version_major": 2,
       "version_minor": 0
      },
      "text/plain": [
       "HBox(children=(IntProgress(value=0, max=875), HTML(value='')))"
      ]
     },
     "metadata": {},
     "output_type": "display_data"
    },
    {
     "name": "stdout",
     "output_type": "stream",
     "text": [
      "\n"
     ]
    },
    {
     "data": {
      "application/vnd.jupyter.widget-view+json": {
       "model_id": "893b6390b798497c892bf67347819d61",
       "version_major": 2,
       "version_minor": 0
      },
      "text/plain": [
       "HBox(children=(IntProgress(value=0, max=375), HTML(value='')))"
      ]
     },
     "metadata": {},
     "output_type": "display_data"
    },
    {
     "name": "stdout",
     "output_type": "stream",
     "text": [
      "\n"
     ]
    }
   ],
   "source": [
    "X_train = get_text_embeddings(df_train[col_text], device=device, batch_size=4)\n",
    "y_train = df_train[col_target].to_numpy()\n",
    "\n",
    "X_test = get_text_embeddings(df_test[col_text], device=device, batch_size=4)\n",
    "y_test = df_test[col_target].to_numpy()"
   ]
  },
  {
   "cell_type": "code",
   "execution_count": 23,
   "metadata": {
    "ExecuteTime": {
     "end_time": "2021-02-28T19:47:00.825264Z",
     "start_time": "2021-02-28T19:46:43.579255Z"
    }
   },
   "outputs": [
    {
     "name": "stdout",
     "output_type": "stream",
     "text": [
      "Recall: 0.7052631578947368\n",
      "Precision: 0.767175572519084\n"
     ]
    }
   ],
   "source": [
    "clf_mlp_elmo = MLPClassifier()\n",
    "clf_mlp_elmo.fit(X_train, y_train)\n",
    "\n",
    "y_predicted = clf_mlp_elmo.predict(X_test)\n",
    "print(f'Recall: {metrics.recall_score(y_test, y_predicted)}')\n",
    "print(f'Precision: {metrics.precision_score(y_test, y_predicted)}')"
   ]
  }
 ],
 "metadata": {
  "@webio": {
   "lastCommId": null,
   "lastKernelId": null
  },
  "kernelspec": {
   "display_name": "Python 3",
   "language": "python",
   "name": "python3"
  },
  "language_info": {
   "codemirror_mode": {
    "name": "ipython",
    "version": 3
   },
   "file_extension": ".py",
   "mimetype": "text/x-python",
   "name": "python",
   "nbconvert_exporter": "python",
   "pygments_lexer": "ipython3",
   "version": "3.7.3"
  }
 },
 "nbformat": 4,
 "nbformat_minor": 2
}
